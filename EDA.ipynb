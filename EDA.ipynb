{
 "cells": [
  {
   "cell_type": "code",
   "execution_count": 1,
   "metadata": {},
   "outputs": [],
   "source": [
    "import pandas as pd\n",
    "import numpy as np\n",
    "\n",
    "df_market = pd.read_csv('datasets/train.csv')\n",
    "df_tweets = pd.read_csv('datasets/tweets_from2015_#Ibex35.csv')"
   ]
  },
  {
   "cell_type": "code",
   "execution_count": 2,
   "metadata": {},
   "outputs": [
    {
     "data": {
      "text/plain": [
       "(6554, 8)"
      ]
     },
     "execution_count": 2,
     "metadata": {},
     "output_type": "execute_result"
    }
   ],
   "source": [
    "df_market.shape"
   ]
  },
  {
   "cell_type": "code",
   "execution_count": 3,
   "metadata": {},
   "outputs": [
    {
     "data": {
      "text/html": [
       "<div>\n",
       "<style scoped>\n",
       "    .dataframe tbody tr th:only-of-type {\n",
       "        vertical-align: middle;\n",
       "    }\n",
       "\n",
       "    .dataframe tbody tr th {\n",
       "        vertical-align: top;\n",
       "    }\n",
       "\n",
       "    .dataframe thead th {\n",
       "        text-align: right;\n",
       "    }\n",
       "</style>\n",
       "<table border=\"1\" class=\"dataframe\">\n",
       "  <thead>\n",
       "    <tr style=\"text-align: right;\">\n",
       "      <th></th>\n",
       "      <th>Date</th>\n",
       "      <th>Open</th>\n",
       "      <th>High</th>\n",
       "      <th>Low</th>\n",
       "      <th>Close</th>\n",
       "      <th>Adj Close</th>\n",
       "      <th>Volume</th>\n",
       "      <th>Target</th>\n",
       "    </tr>\n",
       "  </thead>\n",
       "  <tbody>\n",
       "    <tr>\n",
       "      <th>0</th>\n",
       "      <td>1994-01-03</td>\n",
       "      <td>3615.199951</td>\n",
       "      <td>3654.699951</td>\n",
       "      <td>3581.000000</td>\n",
       "      <td>3654.500000</td>\n",
       "      <td>3654.496338</td>\n",
       "      <td>0.0</td>\n",
       "      <td>0</td>\n",
       "    </tr>\n",
       "    <tr>\n",
       "      <th>1</th>\n",
       "      <td>1994-01-04</td>\n",
       "      <td>3654.500000</td>\n",
       "      <td>3675.500000</td>\n",
       "      <td>3625.100098</td>\n",
       "      <td>3630.300049</td>\n",
       "      <td>3630.296387</td>\n",
       "      <td>0.0</td>\n",
       "      <td>1</td>\n",
       "    </tr>\n",
       "    <tr>\n",
       "      <th>2</th>\n",
       "      <td>1994-01-05</td>\n",
       "      <td>3625.199951</td>\n",
       "      <td>3625.199951</td>\n",
       "      <td>3583.399902</td>\n",
       "      <td>3621.199951</td>\n",
       "      <td>3621.196289</td>\n",
       "      <td>0.0</td>\n",
       "      <td>1</td>\n",
       "    </tr>\n",
       "    <tr>\n",
       "      <th>3</th>\n",
       "      <td>1994-01-06</td>\n",
       "      <td>NaN</td>\n",
       "      <td>NaN</td>\n",
       "      <td>NaN</td>\n",
       "      <td>NaN</td>\n",
       "      <td>NaN</td>\n",
       "      <td>NaN</td>\n",
       "      <td>0</td>\n",
       "    </tr>\n",
       "    <tr>\n",
       "      <th>4</th>\n",
       "      <td>1994-01-07</td>\n",
       "      <td>3621.199951</td>\n",
       "      <td>3644.399902</td>\n",
       "      <td>3598.699951</td>\n",
       "      <td>3636.399902</td>\n",
       "      <td>3636.396240</td>\n",
       "      <td>0.0</td>\n",
       "      <td>1</td>\n",
       "    </tr>\n",
       "  </tbody>\n",
       "</table>\n",
       "</div>"
      ],
      "text/plain": [
       "         Date         Open         High          Low        Close  \\\n",
       "0  1994-01-03  3615.199951  3654.699951  3581.000000  3654.500000   \n",
       "1  1994-01-04  3654.500000  3675.500000  3625.100098  3630.300049   \n",
       "2  1994-01-05  3625.199951  3625.199951  3583.399902  3621.199951   \n",
       "3  1994-01-06          NaN          NaN          NaN          NaN   \n",
       "4  1994-01-07  3621.199951  3644.399902  3598.699951  3636.399902   \n",
       "\n",
       "     Adj Close  Volume  Target  \n",
       "0  3654.496338     0.0       0  \n",
       "1  3630.296387     0.0       1  \n",
       "2  3621.196289     0.0       1  \n",
       "3          NaN     NaN       0  \n",
       "4  3636.396240     0.0       1  "
      ]
     },
     "execution_count": 3,
     "metadata": {},
     "output_type": "execute_result"
    }
   ],
   "source": [
    "\n",
    "df_market.head()"
   ]
  },
  {
   "cell_type": "code",
   "execution_count": 4,
   "metadata": {},
   "outputs": [
    {
     "data": {
      "text/plain": [
       "(9801, 3)"
      ]
     },
     "execution_count": 4,
     "metadata": {},
     "output_type": "execute_result"
    }
   ],
   "source": [
    "df_tweets.shape"
   ]
  },
  {
   "cell_type": "code",
   "execution_count": 5,
   "metadata": {},
   "outputs": [
    {
     "data": {
      "text/html": [
       "<div>\n",
       "<style scoped>\n",
       "    .dataframe tbody tr th:only-of-type {\n",
       "        vertical-align: middle;\n",
       "    }\n",
       "\n",
       "    .dataframe tbody tr th {\n",
       "        vertical-align: top;\n",
       "    }\n",
       "\n",
       "    .dataframe thead th {\n",
       "        text-align: right;\n",
       "    }\n",
       "</style>\n",
       "<table border=\"1\" class=\"dataframe\">\n",
       "  <thead>\n",
       "    <tr style=\"text-align: right;\">\n",
       "      <th></th>\n",
       "      <th>tweetDate</th>\n",
       "      <th>handle</th>\n",
       "      <th>text</th>\n",
       "    </tr>\n",
       "  </thead>\n",
       "  <tbody>\n",
       "    <tr>\n",
       "      <th>0</th>\n",
       "      <td>Sat Apr 09 14:47:45 +0000 2022</td>\n",
       "      <td>abelac62</td>\n",
       "      <td>He hecho el repaso de todos los componentes de...</td>\n",
       "    </tr>\n",
       "    <tr>\n",
       "      <th>1</th>\n",
       "      <td>Thu Apr 07 19:14:36 +0000 2022</td>\n",
       "      <td>LluisPerarnau</td>\n",
       "      <td>Els projectes que han presentat les empreses d...</td>\n",
       "    </tr>\n",
       "    <tr>\n",
       "      <th>2</th>\n",
       "      <td>Mon Apr 04 16:48:45 +0000 2022</td>\n",
       "      <td>Pegaso121080</td>\n",
       "      <td>Por si no lo has visto, o no lo encuentras en ...</td>\n",
       "    </tr>\n",
       "    <tr>\n",
       "      <th>3</th>\n",
       "      <td>Tue Apr 05 07:23:16 +0000 2022</td>\n",
       "      <td>zonavalue</td>\n",
       "      <td>📈 #BOLSA: El #Ibex35 abre en 🟢 \\n\\n🇪🇸 #Ibex35 ...</td>\n",
       "    </tr>\n",
       "    <tr>\n",
       "      <th>4</th>\n",
       "      <td>Thu Mar 31 16:07:43 +0000 2022</td>\n",
       "      <td>EPeconomia</td>\n",
       "      <td>El #Ibex35 retrocede un 0,4% en marzo y un 3,0...</td>\n",
       "    </tr>\n",
       "  </tbody>\n",
       "</table>\n",
       "</div>"
      ],
      "text/plain": [
       "                        tweetDate         handle  \\\n",
       "0  Sat Apr 09 14:47:45 +0000 2022       abelac62   \n",
       "1  Thu Apr 07 19:14:36 +0000 2022  LluisPerarnau   \n",
       "2  Mon Apr 04 16:48:45 +0000 2022   Pegaso121080   \n",
       "3  Tue Apr 05 07:23:16 +0000 2022      zonavalue   \n",
       "4  Thu Mar 31 16:07:43 +0000 2022     EPeconomia   \n",
       "\n",
       "                                                text  \n",
       "0  He hecho el repaso de todos los componentes de...  \n",
       "1  Els projectes que han presentat les empreses d...  \n",
       "2  Por si no lo has visto, o no lo encuentras en ...  \n",
       "3  📈 #BOLSA: El #Ibex35 abre en 🟢 \\n\\n🇪🇸 #Ibex35 ...  \n",
       "4  El #Ibex35 retrocede un 0,4% en marzo y un 3,0...  "
      ]
     },
     "execution_count": 5,
     "metadata": {},
     "output_type": "execute_result"
    }
   ],
   "source": [
    "df_tweets.head()"
   ]
  },
  {
   "cell_type": "code",
   "execution_count": 6,
   "metadata": {},
   "outputs": [
    {
     "name": "stdout",
     "output_type": "stream",
     "text": [
      "Date           0\n",
      "Open         133\n",
      "High         133\n",
      "Low          133\n",
      "Close        133\n",
      "Adj Close    133\n",
      "Volume       133\n",
      "Target         0\n",
      "dtype: int64\n"
     ]
    }
   ],
   "source": [
    "print(df_market.isnull().sum()) # amount of days without register"
   ]
  },
  {
   "cell_type": "code",
   "execution_count": 7,
   "metadata": {},
   "outputs": [],
   "source": [
    "null_map = df_market.isnull()\n",
    "\n",
    "def get_pos_no_null_forward(null_map, column, i, pos_forward):\n",
    "    while null_map[column][i + pos_forward] == True:\n",
    "        pos_forward += 1\n",
    "    return pos_forward\n",
    "\n",
    "def get_pos_no_null_backward(null_map, column, i, pos_backward):\n",
    "    while null_map[column][i - pos_backward] == True:\n",
    "        pos_backward += 1\n",
    "    return pos_backward\n",
    "\n",
    "columns = df_market.columns\n",
    "\n",
    "for column in columns:\n",
    "    if column != 'Date' and column != 'Target':\n",
    "        for i in range(0, len(null_map)):\n",
    "            pos_backward = 1\n",
    "            pos_forward = 1\n",
    "            if null_map[column][i] == True:\n",
    "                pos_backward = get_pos_no_null_backward(null_map, column, i, pos_backward)\n",
    "                pos_forward = get_pos_no_null_forward(null_map, column, i, pos_forward)\n",
    "                df_market.at[i, column] = (df_market[column][i - pos_backward] + df_market[column][i + pos_forward]) / 2"
   ]
  },
  {
   "cell_type": "code",
   "execution_count": 8,
   "metadata": {},
   "outputs": [
    {
     "name": "stdout",
     "output_type": "stream",
     "text": [
      "Date         0\n",
      "Open         0\n",
      "High         0\n",
      "Low          0\n",
      "Close        0\n",
      "Adj Close    0\n",
      "Volume       0\n",
      "Target       0\n",
      "dtype: int64\n"
     ]
    }
   ],
   "source": [
    "print(df_market.isnull().sum())"
   ]
  },
  {
   "cell_type": "code",
   "execution_count": 9,
   "metadata": {},
   "outputs": [
    {
     "name": "stdout",
     "output_type": "stream",
     "text": [
      "       Date   Open   High    Low  Close  Adj Close  Volume  Target\n",
      "0     False  False  False  False  False      False   False   False\n",
      "1     False  False  False  False  False      False   False   False\n",
      "2     False  False  False  False  False      False   False   False\n",
      "3     False  False  False  False  False      False   False   False\n",
      "4     False  False  False  False  False      False   False   False\n",
      "...     ...    ...    ...    ...    ...        ...     ...     ...\n",
      "6549  False  False  False  False  False      False   False   False\n",
      "6550  False  False  False  False  False      False   False   False\n",
      "6551  False  False  False  False  False      False   False   False\n",
      "6552  False  False  False  False  False      False   False   False\n",
      "6553  False  False  False  False  False      False   False   False\n",
      "\n",
      "[6554 rows x 8 columns]\n"
     ]
    }
   ],
   "source": [
    "print(df_market.isnull())\n",
    "df_market.to_csv('datasets/clean.csv')"
   ]
  },
  {
   "cell_type": "code",
   "execution_count": 15,
   "metadata": {},
   "outputs": [
    {
     "name": "stdout",
     "output_type": "stream",
     "text": [
      "             HL         OC          7MA         14MA         21MA       STDV\n",
      "0     73.699951 -39.300049  3654.500000  3654.500000  3654.500000  17.111949\n",
      "1     50.399902  24.199951  3642.400024  3642.400024  3642.400024  17.111949\n",
      "2     41.800049   4.000000  3635.333333  3635.333333  3635.333333  17.211153\n",
      "3     43.750000  -5.599975  3633.699982  3633.699982  3633.699982  14.427539\n",
      "4     45.699951 -15.199951  3634.239966  3634.239966  3634.239966  12.552821\n",
      "...         ...        ...          ...          ...          ...        ...\n",
      "6549  69.699218 -24.299804  9220.571289  9183.592704  9277.337983  64.470992\n",
      "6550  89.899414   9.500000  9208.014230  9182.257045  9263.776088  52.981485\n",
      "6551  92.000000  28.600586  9195.399972  9179.742745  9248.814174  42.416577\n",
      "6552  81.600586  32.700195  9178.371373  9178.692732  9228.018927  60.482360\n",
      "6553  61.100586 -37.000000  9166.757115  9181.571289  9208.361793  54.374824\n",
      "\n",
      "[6554 rows x 6 columns]\n"
     ]
    }
   ],
   "source": [
    "\n",
    "x = pd.DataFrame()\n",
    "\n",
    "x['HL'] = df_market['High'] - df_market['Low']\n",
    "x['OC'] = df_market['Open'] - df_market['Close']\n",
    "x['7MA'] = df_market['Close'].rolling(window=7, min_periods=1).mean()\n",
    "x['14MA'] = df_market['Close'].rolling(window=14, min_periods=1).mean()\n",
    "x['21MA'] = df_market['Close'].rolling(window=21,min_periods=1).mean()\n",
    "x['STDV'] = df_market['Close'].rolling(window=7, min_periods=1).std()\n",
    "x.at[0, 'STDV'] = x['STDV'][1]\n",
    "\n",
    "print (x)\n",
    "\n"
   ]
  },
  {
   "cell_type": "code",
   "execution_count": 47,
   "metadata": {},
   "outputs": [
    {
     "name": "stdout",
     "output_type": "stream",
     "text": [
      "0.5329569728410132\n"
     ]
    }
   ],
   "source": [
    "from sklearn.ensemble import RandomForestClassifier as RFC\n",
    "from sklearn.ensemble import RandomForestRegressor as RFR\n",
    "\n",
    "rfc = RFC(random_state=42, n_jobs=-1, max_depth=5,\n",
    "                                       n_estimators=100, oob_score=True)\n",
    "\n",
    "predicted_y = rfc.fit(x, df_market['Target'])"
   ]
  },
  {
   "cell_type": "code",
   "execution_count": 23,
   "metadata": {},
   "outputs": [
    {
     "name": "stdout",
     "output_type": "stream",
     "text": [
      "Fitting 4 folds for each of 180 candidates, totalling 720 fits\n"
     ]
    }
   ],
   "source": [
    "from sklearn.model_selection import GridSearchCV\n",
    "\n",
    "rf = RFC(random_state=42, n_jobs=-1)\n",
    "\n",
    "params = {\n",
    "    'max_depth': [2,3,5,10,20],\n",
    "    'min_samples_leaf': [5,10,20,50,100,200],\n",
    "    'n_estimators': [10,25,30,50,100,200]\n",
    "}\n",
    "\n",
    "grid_search = GridSearchCV(estimator=rf,\n",
    "                           param_grid=params,\n",
    "                           cv = 4,\n",
    "                           n_jobs=-1, verbose=1, scoring=\"accuracy\")\n",
    "\n",
    "grid_search.fit(x, df_market['Target'])\n",
    "rf_best = grid_search.best_estimator_"
   ]
  },
  {
   "cell_type": "code",
   "execution_count": 37,
   "metadata": {},
   "outputs": [
    {
     "name": "stdout",
     "output_type": "stream",
     "text": [
      "0.5329569728410132\n"
     ]
    }
   ],
   "source": [
    "grid_search.best_score_"
   ]
  },
  {
   "cell_type": "code",
   "execution_count": 48,
   "metadata": {},
   "outputs": [],
   "source": [
    "from sklearn.tree import plot_tree\n",
    "import matplotlib as plt\n",
    "from sklearn.model_selection import train_test_split\n",
    "\n",
    "# plt.figure(figsize=(80,40))\n",
    "# plot_tree(rf_best.estimators_[5], feature_names = x.columns,class_names=['0', \"1\"],filled=True);\n",
    "\n",
    "rfr = RFR(oob_score=True)\n",
    "\n",
    "X_train, X_test, y_train, y_test = train_test_split(x, df_market['Close'], train_size=0.7, random_state=42)\n",
    "\n",
    "prediction = rfr.fit(X_train, y_train)\n"
   ]
  },
  {
   "cell_type": "code",
   "execution_count": 49,
   "metadata": {},
   "outputs": [
    {
     "name": "stdout",
     "output_type": "stream",
     "text": [
      "0.9974373627022483\n",
      "0.9977127390034531\n"
     ]
    }
   ],
   "source": [
    "print (prediction.oob_score_)\n",
    "print (rfr.score(X_test, y_test))"
   ]
  },
  {
   "cell_type": "code",
   "execution_count": null,
   "metadata": {},
   "outputs": [],
   "source": []
  }
 ],
 "metadata": {
  "interpreter": {
   "hash": "916dbcbb3f70747c44a77c7bcd40155683ae19c65e1c03b4aa3499c5328201f1"
  },
  "kernelspec": {
   "display_name": "Python 3.8.10 64-bit",
   "language": "python",
   "name": "python3"
  },
  "language_info": {
   "codemirror_mode": {
    "name": "ipython",
    "version": 3
   },
   "file_extension": ".py",
   "mimetype": "text/x-python",
   "name": "python",
   "nbconvert_exporter": "python",
   "pygments_lexer": "ipython3",
   "version": "3.8.10"
  },
  "orig_nbformat": 4
 },
 "nbformat": 4,
 "nbformat_minor": 2
}
