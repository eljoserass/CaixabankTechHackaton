{
 "cells": [
  {
   "cell_type": "code",
   "execution_count": 17,
   "metadata": {},
   "outputs": [],
   "source": [
    "import pandas as pd\n",
    "\n",
    "df_market = pd.read_csv('datasets/train.csv')\n",
    "df_tweets = pd.read_csv('datasets/tweets_from2015_#Ibex35.csv')"
   ]
  },
  {
   "cell_type": "code",
   "execution_count": 18,
   "metadata": {},
   "outputs": [
    {
     "data": {
      "text/plain": [
       "(6554, 8)"
      ]
     },
     "execution_count": 18,
     "metadata": {},
     "output_type": "execute_result"
    }
   ],
   "source": [
    "df_market.shape"
   ]
  },
  {
   "cell_type": "code",
   "execution_count": 19,
   "metadata": {},
   "outputs": [
    {
     "data": {
      "text/html": [
       "<div>\n",
       "<style scoped>\n",
       "    .dataframe tbody tr th:only-of-type {\n",
       "        vertical-align: middle;\n",
       "    }\n",
       "\n",
       "    .dataframe tbody tr th {\n",
       "        vertical-align: top;\n",
       "    }\n",
       "\n",
       "    .dataframe thead th {\n",
       "        text-align: right;\n",
       "    }\n",
       "</style>\n",
       "<table border=\"1\" class=\"dataframe\">\n",
       "  <thead>\n",
       "    <tr style=\"text-align: right;\">\n",
       "      <th></th>\n",
       "      <th>Date</th>\n",
       "      <th>Open</th>\n",
       "      <th>High</th>\n",
       "      <th>Low</th>\n",
       "      <th>Close</th>\n",
       "      <th>Adj Close</th>\n",
       "      <th>Volume</th>\n",
       "      <th>Target</th>\n",
       "    </tr>\n",
       "  </thead>\n",
       "  <tbody>\n",
       "    <tr>\n",
       "      <th>0</th>\n",
       "      <td>1994-01-03</td>\n",
       "      <td>3615.199951</td>\n",
       "      <td>3654.699951</td>\n",
       "      <td>3581.000000</td>\n",
       "      <td>3654.500000</td>\n",
       "      <td>3654.496338</td>\n",
       "      <td>0.0</td>\n",
       "      <td>0</td>\n",
       "    </tr>\n",
       "    <tr>\n",
       "      <th>1</th>\n",
       "      <td>1994-01-04</td>\n",
       "      <td>3654.500000</td>\n",
       "      <td>3675.500000</td>\n",
       "      <td>3625.100098</td>\n",
       "      <td>3630.300049</td>\n",
       "      <td>3630.296387</td>\n",
       "      <td>0.0</td>\n",
       "      <td>1</td>\n",
       "    </tr>\n",
       "    <tr>\n",
       "      <th>2</th>\n",
       "      <td>1994-01-05</td>\n",
       "      <td>3625.199951</td>\n",
       "      <td>3625.199951</td>\n",
       "      <td>3583.399902</td>\n",
       "      <td>3621.199951</td>\n",
       "      <td>3621.196289</td>\n",
       "      <td>0.0</td>\n",
       "      <td>1</td>\n",
       "    </tr>\n",
       "    <tr>\n",
       "      <th>3</th>\n",
       "      <td>1994-01-06</td>\n",
       "      <td>NaN</td>\n",
       "      <td>NaN</td>\n",
       "      <td>NaN</td>\n",
       "      <td>NaN</td>\n",
       "      <td>NaN</td>\n",
       "      <td>NaN</td>\n",
       "      <td>0</td>\n",
       "    </tr>\n",
       "    <tr>\n",
       "      <th>4</th>\n",
       "      <td>1994-01-07</td>\n",
       "      <td>3621.199951</td>\n",
       "      <td>3644.399902</td>\n",
       "      <td>3598.699951</td>\n",
       "      <td>3636.399902</td>\n",
       "      <td>3636.396240</td>\n",
       "      <td>0.0</td>\n",
       "      <td>1</td>\n",
       "    </tr>\n",
       "  </tbody>\n",
       "</table>\n",
       "</div>"
      ],
      "text/plain": [
       "         Date         Open         High          Low        Close  \\\n",
       "0  1994-01-03  3615.199951  3654.699951  3581.000000  3654.500000   \n",
       "1  1994-01-04  3654.500000  3675.500000  3625.100098  3630.300049   \n",
       "2  1994-01-05  3625.199951  3625.199951  3583.399902  3621.199951   \n",
       "3  1994-01-06          NaN          NaN          NaN          NaN   \n",
       "4  1994-01-07  3621.199951  3644.399902  3598.699951  3636.399902   \n",
       "\n",
       "     Adj Close  Volume  Target  \n",
       "0  3654.496338     0.0       0  \n",
       "1  3630.296387     0.0       1  \n",
       "2  3621.196289     0.0       1  \n",
       "3          NaN     NaN       0  \n",
       "4  3636.396240     0.0       1  "
      ]
     },
     "execution_count": 19,
     "metadata": {},
     "output_type": "execute_result"
    }
   ],
   "source": [
    "\n",
    "df_market.head()"
   ]
  },
  {
   "cell_type": "code",
   "execution_count": 20,
   "metadata": {},
   "outputs": [
    {
     "data": {
      "text/plain": [
       "(9801, 3)"
      ]
     },
     "execution_count": 20,
     "metadata": {},
     "output_type": "execute_result"
    }
   ],
   "source": [
    "df_tweets.shape"
   ]
  },
  {
   "cell_type": "code",
   "execution_count": 21,
   "metadata": {},
   "outputs": [
    {
     "data": {
      "text/html": [
       "<div>\n",
       "<style scoped>\n",
       "    .dataframe tbody tr th:only-of-type {\n",
       "        vertical-align: middle;\n",
       "    }\n",
       "\n",
       "    .dataframe tbody tr th {\n",
       "        vertical-align: top;\n",
       "    }\n",
       "\n",
       "    .dataframe thead th {\n",
       "        text-align: right;\n",
       "    }\n",
       "</style>\n",
       "<table border=\"1\" class=\"dataframe\">\n",
       "  <thead>\n",
       "    <tr style=\"text-align: right;\">\n",
       "      <th></th>\n",
       "      <th>tweetDate</th>\n",
       "      <th>handle</th>\n",
       "      <th>text</th>\n",
       "    </tr>\n",
       "  </thead>\n",
       "  <tbody>\n",
       "    <tr>\n",
       "      <th>0</th>\n",
       "      <td>Sat Apr 09 14:47:45 +0000 2022</td>\n",
       "      <td>abelac62</td>\n",
       "      <td>He hecho el repaso de todos los componentes de...</td>\n",
       "    </tr>\n",
       "    <tr>\n",
       "      <th>1</th>\n",
       "      <td>Thu Apr 07 19:14:36 +0000 2022</td>\n",
       "      <td>LluisPerarnau</td>\n",
       "      <td>Els projectes que han presentat les empreses d...</td>\n",
       "    </tr>\n",
       "    <tr>\n",
       "      <th>2</th>\n",
       "      <td>Mon Apr 04 16:48:45 +0000 2022</td>\n",
       "      <td>Pegaso121080</td>\n",
       "      <td>Por si no lo has visto, o no lo encuentras en ...</td>\n",
       "    </tr>\n",
       "    <tr>\n",
       "      <th>3</th>\n",
       "      <td>Tue Apr 05 07:23:16 +0000 2022</td>\n",
       "      <td>zonavalue</td>\n",
       "      <td>📈 #BOLSA: El #Ibex35 abre en 🟢 \\n\\n🇪🇸 #Ibex35 ...</td>\n",
       "    </tr>\n",
       "    <tr>\n",
       "      <th>4</th>\n",
       "      <td>Thu Mar 31 16:07:43 +0000 2022</td>\n",
       "      <td>EPeconomia</td>\n",
       "      <td>El #Ibex35 retrocede un 0,4% en marzo y un 3,0...</td>\n",
       "    </tr>\n",
       "  </tbody>\n",
       "</table>\n",
       "</div>"
      ],
      "text/plain": [
       "                        tweetDate         handle  \\\n",
       "0  Sat Apr 09 14:47:45 +0000 2022       abelac62   \n",
       "1  Thu Apr 07 19:14:36 +0000 2022  LluisPerarnau   \n",
       "2  Mon Apr 04 16:48:45 +0000 2022   Pegaso121080   \n",
       "3  Tue Apr 05 07:23:16 +0000 2022      zonavalue   \n",
       "4  Thu Mar 31 16:07:43 +0000 2022     EPeconomia   \n",
       "\n",
       "                                                text  \n",
       "0  He hecho el repaso de todos los componentes de...  \n",
       "1  Els projectes que han presentat les empreses d...  \n",
       "2  Por si no lo has visto, o no lo encuentras en ...  \n",
       "3  📈 #BOLSA: El #Ibex35 abre en 🟢 \\n\\n🇪🇸 #Ibex35 ...  \n",
       "4  El #Ibex35 retrocede un 0,4% en marzo y un 3,0...  "
      ]
     },
     "execution_count": 21,
     "metadata": {},
     "output_type": "execute_result"
    }
   ],
   "source": [
    "df_tweets.head()"
   ]
  },
  {
   "cell_type": "code",
   "execution_count": 22,
   "metadata": {},
   "outputs": [
    {
     "name": "stdout",
     "output_type": "stream",
     "text": [
      "Date           0\n",
      "Open         133\n",
      "High         133\n",
      "Low          133\n",
      "Close        133\n",
      "Adj Close    133\n",
      "Volume       133\n",
      "Target         0\n",
      "dtype: int64\n"
     ]
    }
   ],
   "source": [
    "print(df_market.isnull().sum()) # amount of days without register"
   ]
  },
  {
   "cell_type": "code",
   "execution_count": 23,
   "metadata": {},
   "outputs": [],
   "source": [
    "null_map = df_market.isnull()\n",
    "\n",
    "def get_pos_no_null_forward(null_map, column, i, pos_forward):\n",
    "    while null_map[column][i + pos_forward] == True:\n",
    "        pos_forward += 1\n",
    "    return pos_forward\n",
    "\n",
    "def get_pos_no_null_backward(null_map, column, i, pos_backward):\n",
    "    while null_map[column][i - pos_backward] == True:\n",
    "        pos_backward += 1\n",
    "    return pos_backward\n",
    "\n",
    "columns = df_market.columns\n",
    "\n",
    "for column in columns:\n",
    "    if column != 'Date' and column != 'Target':\n",
    "        for i in range(0, len(null_map)):\n",
    "            pos_backward = 1\n",
    "            pos_forward = 1\n",
    "            if null_map[column][i] == True:\n",
    "                pos_backward = get_pos_no_null_backward(null_map, column, i, pos_backward)\n",
    "                pos_forward = get_pos_no_null_forward(null_map, column, i, pos_forward)\n",
    "                df_market.at[i, column] = (df_market[column][i - pos_backward] + df_market[column][i + pos_forward]) / 2"
   ]
  },
  {
   "cell_type": "code",
   "execution_count": 24,
   "metadata": {},
   "outputs": [
    {
     "name": "stdout",
     "output_type": "stream",
     "text": [
      "Date         0\n",
      "Open         0\n",
      "High         0\n",
      "Low          0\n",
      "Close        0\n",
      "Adj Close    0\n",
      "Volume       0\n",
      "Target       0\n",
      "dtype: int64\n"
     ]
    }
   ],
   "source": [
    "print(df_market.isnull().sum())"
   ]
  },
  {
   "cell_type": "code",
   "execution_count": 25,
   "metadata": {},
   "outputs": [
    {
     "name": "stdout",
     "output_type": "stream",
     "text": [
      "       Date   Open   High    Low  Close  Adj Close  Volume  Target\n",
      "0     False  False  False  False  False      False   False   False\n",
      "1     False  False  False  False  False      False   False   False\n",
      "2     False  False  False  False  False      False   False   False\n",
      "3     False  False  False  False  False      False   False   False\n",
      "4     False  False  False  False  False      False   False   False\n",
      "...     ...    ...    ...    ...    ...        ...     ...     ...\n",
      "6549  False  False  False  False  False      False   False   False\n",
      "6550  False  False  False  False  False      False   False   False\n",
      "6551  False  False  False  False  False      False   False   False\n",
      "6552  False  False  False  False  False      False   False   False\n",
      "6553  False  False  False  False  False      False   False   False\n",
      "\n",
      "[6554 rows x 8 columns]\n"
     ]
    }
   ],
   "source": [
    "print(df_market.isnull())\n",
    "df_market.to_csv('datasets/clean.csv')"
   ]
  }
 ],
 "metadata": {
  "interpreter": {
   "hash": "916dbcbb3f70747c44a77c7bcd40155683ae19c65e1c03b4aa3499c5328201f1"
  },
  "kernelspec": {
   "display_name": "Python 3.8.10 64-bit",
   "language": "python",
   "name": "python3"
  },
  "language_info": {
   "codemirror_mode": {
    "name": "ipython",
    "version": 3
   },
   "file_extension": ".py",
   "mimetype": "text/x-python",
   "name": "python",
   "nbconvert_exporter": "python",
   "pygments_lexer": "ipython3",
   "version": "3.8.10"
  },
  "orig_nbformat": 4
 },
 "nbformat": 4,
 "nbformat_minor": 2
}
