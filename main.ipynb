{
 "cells": [
  {
   "cell_type": "markdown",
   "metadata": {},
   "source": [
    "IBEX35 Forecasting"
   ]
  },
  {
   "cell_type": "code",
   "execution_count": 1,
   "metadata": {},
   "outputs": [],
   "source": [
    "import pandas as pd\n",
    "import numpy as np\n",
    "from sklearn.ensemble import RandomForestRegressor as RFR\n",
    "\n",
    "\"\"\"\n",
    "Initialize datasets\n",
    "\"\"\"\n",
    "\n",
    "df_market = pd.read_csv('datasets/train.csv')\n",
    "df_tweets = pd.read_csv('datasets/tweets_from2015_#Ibex35.csv')\n",
    "df_test = pd.read_csv('datasets/test_x.csv')"
   ]
  },
  {
   "cell_type": "code",
   "execution_count": 2,
   "metadata": {},
   "outputs": [
    {
     "data": {
      "text/plain": [
       "(6554, 8)"
      ]
     },
     "execution_count": 2,
     "metadata": {},
     "output_type": "execute_result"
    }
   ],
   "source": [
    "df_market.shape"
   ]
  },
  {
   "cell_type": "code",
   "execution_count": 3,
   "metadata": {},
   "outputs": [
    {
     "data": {
      "text/html": [
       "<div>\n",
       "<style scoped>\n",
       "    .dataframe tbody tr th:only-of-type {\n",
       "        vertical-align: middle;\n",
       "    }\n",
       "\n",
       "    .dataframe tbody tr th {\n",
       "        vertical-align: top;\n",
       "    }\n",
       "\n",
       "    .dataframe thead th {\n",
       "        text-align: right;\n",
       "    }\n",
       "</style>\n",
       "<table border=\"1\" class=\"dataframe\">\n",
       "  <thead>\n",
       "    <tr style=\"text-align: right;\">\n",
       "      <th></th>\n",
       "      <th>Date</th>\n",
       "      <th>Open</th>\n",
       "      <th>High</th>\n",
       "      <th>Low</th>\n",
       "      <th>Close</th>\n",
       "      <th>Adj Close</th>\n",
       "      <th>Volume</th>\n",
       "      <th>Target</th>\n",
       "    </tr>\n",
       "  </thead>\n",
       "  <tbody>\n",
       "    <tr>\n",
       "      <th>0</th>\n",
       "      <td>1994-01-03</td>\n",
       "      <td>3615.199951</td>\n",
       "      <td>3654.699951</td>\n",
       "      <td>3581.000000</td>\n",
       "      <td>3654.500000</td>\n",
       "      <td>3654.496338</td>\n",
       "      <td>0.0</td>\n",
       "      <td>0</td>\n",
       "    </tr>\n",
       "    <tr>\n",
       "      <th>1</th>\n",
       "      <td>1994-01-04</td>\n",
       "      <td>3654.500000</td>\n",
       "      <td>3675.500000</td>\n",
       "      <td>3625.100098</td>\n",
       "      <td>3630.300049</td>\n",
       "      <td>3630.296387</td>\n",
       "      <td>0.0</td>\n",
       "      <td>1</td>\n",
       "    </tr>\n",
       "    <tr>\n",
       "      <th>2</th>\n",
       "      <td>1994-01-05</td>\n",
       "      <td>3625.199951</td>\n",
       "      <td>3625.199951</td>\n",
       "      <td>3583.399902</td>\n",
       "      <td>3621.199951</td>\n",
       "      <td>3621.196289</td>\n",
       "      <td>0.0</td>\n",
       "      <td>1</td>\n",
       "    </tr>\n",
       "    <tr>\n",
       "      <th>3</th>\n",
       "      <td>1994-01-06</td>\n",
       "      <td>NaN</td>\n",
       "      <td>NaN</td>\n",
       "      <td>NaN</td>\n",
       "      <td>NaN</td>\n",
       "      <td>NaN</td>\n",
       "      <td>NaN</td>\n",
       "      <td>0</td>\n",
       "    </tr>\n",
       "    <tr>\n",
       "      <th>4</th>\n",
       "      <td>1994-01-07</td>\n",
       "      <td>3621.199951</td>\n",
       "      <td>3644.399902</td>\n",
       "      <td>3598.699951</td>\n",
       "      <td>3636.399902</td>\n",
       "      <td>3636.396240</td>\n",
       "      <td>0.0</td>\n",
       "      <td>1</td>\n",
       "    </tr>\n",
       "  </tbody>\n",
       "</table>\n",
       "</div>"
      ],
      "text/plain": [
       "         Date         Open         High          Low        Close  \\\n",
       "0  1994-01-03  3615.199951  3654.699951  3581.000000  3654.500000   \n",
       "1  1994-01-04  3654.500000  3675.500000  3625.100098  3630.300049   \n",
       "2  1994-01-05  3625.199951  3625.199951  3583.399902  3621.199951   \n",
       "3  1994-01-06          NaN          NaN          NaN          NaN   \n",
       "4  1994-01-07  3621.199951  3644.399902  3598.699951  3636.399902   \n",
       "\n",
       "     Adj Close  Volume  Target  \n",
       "0  3654.496338     0.0       0  \n",
       "1  3630.296387     0.0       1  \n",
       "2  3621.196289     0.0       1  \n",
       "3          NaN     NaN       0  \n",
       "4  3636.396240     0.0       1  "
      ]
     },
     "execution_count": 3,
     "metadata": {},
     "output_type": "execute_result"
    }
   ],
   "source": [
    "df_market.head()"
   ]
  },
  {
   "cell_type": "code",
   "execution_count": 4,
   "metadata": {},
   "outputs": [
    {
     "data": {
      "text/plain": [
       "(9801, 3)"
      ]
     },
     "execution_count": 4,
     "metadata": {},
     "output_type": "execute_result"
    }
   ],
   "source": [
    "df_tweets.shape"
   ]
  },
  {
   "cell_type": "code",
   "execution_count": 5,
   "metadata": {},
   "outputs": [
    {
     "data": {
      "text/html": [
       "<div>\n",
       "<style scoped>\n",
       "    .dataframe tbody tr th:only-of-type {\n",
       "        vertical-align: middle;\n",
       "    }\n",
       "\n",
       "    .dataframe tbody tr th {\n",
       "        vertical-align: top;\n",
       "    }\n",
       "\n",
       "    .dataframe thead th {\n",
       "        text-align: right;\n",
       "    }\n",
       "</style>\n",
       "<table border=\"1\" class=\"dataframe\">\n",
       "  <thead>\n",
       "    <tr style=\"text-align: right;\">\n",
       "      <th></th>\n",
       "      <th>tweetDate</th>\n",
       "      <th>handle</th>\n",
       "      <th>text</th>\n",
       "    </tr>\n",
       "  </thead>\n",
       "  <tbody>\n",
       "    <tr>\n",
       "      <th>0</th>\n",
       "      <td>Sat Apr 09 14:47:45 +0000 2022</td>\n",
       "      <td>abelac62</td>\n",
       "      <td>He hecho el repaso de todos los componentes de...</td>\n",
       "    </tr>\n",
       "    <tr>\n",
       "      <th>1</th>\n",
       "      <td>Thu Apr 07 19:14:36 +0000 2022</td>\n",
       "      <td>LluisPerarnau</td>\n",
       "      <td>Els projectes que han presentat les empreses d...</td>\n",
       "    </tr>\n",
       "    <tr>\n",
       "      <th>2</th>\n",
       "      <td>Mon Apr 04 16:48:45 +0000 2022</td>\n",
       "      <td>Pegaso121080</td>\n",
       "      <td>Por si no lo has visto, o no lo encuentras en ...</td>\n",
       "    </tr>\n",
       "    <tr>\n",
       "      <th>3</th>\n",
       "      <td>Tue Apr 05 07:23:16 +0000 2022</td>\n",
       "      <td>zonavalue</td>\n",
       "      <td>📈 #BOLSA: El #Ibex35 abre en 🟢 \\n\\n🇪🇸 #Ibex35 ...</td>\n",
       "    </tr>\n",
       "    <tr>\n",
       "      <th>4</th>\n",
       "      <td>Thu Mar 31 16:07:43 +0000 2022</td>\n",
       "      <td>EPeconomia</td>\n",
       "      <td>El #Ibex35 retrocede un 0,4% en marzo y un 3,0...</td>\n",
       "    </tr>\n",
       "  </tbody>\n",
       "</table>\n",
       "</div>"
      ],
      "text/plain": [
       "                        tweetDate         handle  \\\n",
       "0  Sat Apr 09 14:47:45 +0000 2022       abelac62   \n",
       "1  Thu Apr 07 19:14:36 +0000 2022  LluisPerarnau   \n",
       "2  Mon Apr 04 16:48:45 +0000 2022   Pegaso121080   \n",
       "3  Tue Apr 05 07:23:16 +0000 2022      zonavalue   \n",
       "4  Thu Mar 31 16:07:43 +0000 2022     EPeconomia   \n",
       "\n",
       "                                                text  \n",
       "0  He hecho el repaso de todos los componentes de...  \n",
       "1  Els projectes que han presentat les empreses d...  \n",
       "2  Por si no lo has visto, o no lo encuentras en ...  \n",
       "3  📈 #BOLSA: El #Ibex35 abre en 🟢 \\n\\n🇪🇸 #Ibex35 ...  \n",
       "4  El #Ibex35 retrocede un 0,4% en marzo y un 3,0...  "
      ]
     },
     "execution_count": 5,
     "metadata": {},
     "output_type": "execute_result"
    }
   ],
   "source": [
    "df_tweets.head()"
   ]
  },
  {
   "cell_type": "code",
   "execution_count": 6,
   "metadata": {},
   "outputs": [
    {
     "name": "stdout",
     "output_type": "stream",
     "text": [
      "Date           0\n",
      "Open         133\n",
      "High         133\n",
      "Low          133\n",
      "Close        133\n",
      "Adj Close    133\n",
      "Volume       133\n",
      "Target         0\n",
      "dtype: int64\n"
     ]
    }
   ],
   "source": [
    "print(df_market.isnull().sum()) # amount of days without register"
   ]
  },
  {
   "cell_type": "code",
   "execution_count": 7,
   "metadata": {},
   "outputs": [],
   "source": [
    "null_map = df_market.isnull()\n",
    "\n",
    "def get_pos_no_null_forward(null_map, column, i, pos_forward):\n",
    "    while null_map[column][i + pos_forward] == True:\n",
    "        pos_forward += 1\n",
    "    return pos_forward\n",
    "\n",
    "def get_pos_no_null_backward(null_map, column, i, pos_backward):\n",
    "    while null_map[column][i - pos_backward] == True:\n",
    "        pos_backward += 1\n",
    "    return pos_backward\n",
    "\n",
    "columns = df_market.columns\n",
    "\n",
    "for column in columns:\n",
    "    if column != 'Date' and column != 'Target':\n",
    "        for i in range(0, len(null_map)):\n",
    "            pos_backward = 1\n",
    "            pos_forward = 1\n",
    "            if null_map[column][i] == True:\n",
    "                pos_backward = get_pos_no_null_backward(null_map, column, i, pos_backward)\n",
    "                pos_forward = get_pos_no_null_forward(null_map, column, i, pos_forward)\n",
    "                df_market.at[i, column] = (df_market[column][i - pos_backward] + df_market[column][i + pos_forward]) / 2"
   ]
  },
  {
   "cell_type": "code",
   "execution_count": 8,
   "metadata": {},
   "outputs": [
    {
     "name": "stdout",
     "output_type": "stream",
     "text": [
      "Date         0\n",
      "Open         0\n",
      "High         0\n",
      "Low          0\n",
      "Close        0\n",
      "Adj Close    0\n",
      "Volume       0\n",
      "Target       0\n",
      "dtype: int64\n"
     ]
    }
   ],
   "source": [
    "print(df_market.isnull().sum())"
   ]
  },
  {
   "cell_type": "code",
   "execution_count": 9,
   "metadata": {},
   "outputs": [],
   "source": [
    "x = pd.DataFrame()\n",
    "\n",
    "x['HL'] = df_market['High'] - df_market['Low']\n",
    "x['OC'] = df_market['Open'] - df_market['Close']\n",
    "x['7MA'] = df_market['Close'].rolling(window=7, min_periods=1).mean()\n",
    "x['14MA'] = df_market['Close'].rolling(window=14, min_periods=1).mean()\n",
    "x['21MA'] = df_market['Close'].rolling(window=21,min_periods=1).mean()\n",
    "x['STDV'] = df_market['Close'].rolling(window=7, min_periods=1).std()\n",
    "x.at[0, 'STDV'] = x['STDV'][1]"
   ]
  },
  {
   "cell_type": "code",
   "execution_count": 10,
   "metadata": {},
   "outputs": [
    {
     "name": "stdout",
     "output_type": "stream",
     "text": [
      "     test_index        Date         Open         High          Low  \\\n",
      "0          6557  2019-06-05  9136.799805  9173.400391  9095.000000   \n",
      "1          6558  2019-06-06  9169.200195  9246.200195  9136.700195   \n",
      "2          6559  2019-06-07  9186.700195  9261.400391  9185.700195   \n",
      "3          6560  2019-06-10  9284.200195  9302.200195  9248.099609   \n",
      "4          6561  2019-06-11  9288.599609  9332.500000  9273.400391   \n",
      "..          ...         ...          ...          ...          ...   \n",
      "721        7278  2022-03-25  8314.099609  8363.200195  8286.500000   \n",
      "722        7279  2022-03-28  8354.400391  8485.700195  8354.400391   \n",
      "723        7280  2022-03-29  8451.000000  8621.000000  8419.700195   \n",
      "724        7281  2022-03-30  8583.299805  8597.400391  8508.900391   \n",
      "725        7282  2022-03-31  8562.599609  8588.299805  8445.099609   \n",
      "\n",
      "           Close    Adj Close       Volume  \n",
      "0    9150.500000  9150.500000  158753000.0  \n",
      "1    9169.200195  9169.200195  212720900.0  \n",
      "2    9236.099609  9236.099609  150664700.0  \n",
      "3    9294.099609  9294.099609  102323700.0  \n",
      "4    9282.099609  9282.099609  144701200.0  \n",
      "..           ...          ...          ...  \n",
      "721  8330.599609  8330.599609  156189000.0  \n",
      "722  8365.599609  8365.599609  167961800.0  \n",
      "723  8614.599609  8614.599609  257812200.0  \n",
      "724  8550.599609  8550.599609  185389000.0  \n",
      "725  8445.099609  8445.099609  220117500.0  \n",
      "\n",
      "[726 rows x 8 columns]\n"
     ]
    }
   ],
   "source": [
    "model = RFR(oob_score = True)\n",
    "\n",
    "df_test = pd.read_csv('datasets/test_x.csv')\n",
    "\n",
    "print (df_test)\n",
    "\n",
    "model.fit(x, df_market['Close'])\n",
    "\n",
    "x_test = pd.DataFrame()\n",
    "\n",
    "x_test['HL'] = df_test['High'] - df_test['Low']\n",
    "x_test['OC'] = df_test['Open'] - df_test['Close']\n",
    "x_test['7MA'] = df_test['Close'].rolling(window=7, min_periods=1).mean()\n",
    "x_test['14MA'] = df_test['Close'].rolling(window=14, min_periods=1).mean()\n",
    "x_test['21MA'] = df_test['Close'].rolling(window=21,min_periods=1).mean()\n",
    "x_test['STDV'] = df_test['Close'].rolling(window=7, min_periods=1).std()\n",
    "x_test.at[0, 'STDV'] = x_test['STDV'][1]\n"
   ]
  },
  {
   "cell_type": "code",
   "execution_count": 11,
   "metadata": {},
   "outputs": [],
   "source": [
    "y_prediction = model.predict(x_test)"
   ]
  },
  {
   "cell_type": "code",
   "execution_count": 21,
   "metadata": {},
   "outputs": [],
   "source": [
    "result_csv = pd.DataFrame()\n",
    "\n",
    "result_csv['test_index'] = df_test['test_index']"
   ]
  },
  {
   "cell_type": "code",
   "execution_count": 22,
   "metadata": {},
   "outputs": [],
   "source": [
    "def get_target_values(df_test, predicted_y):\n",
    "    result = []\n",
    "    for i in range(0, len(df_test)):\n",
    "        if df_test['Close'][i] > predicted_y[i]:\n",
    "            result.append(1)\n",
    "        else:\n",
    "            result.append(0)\n",
    "    return result"
   ]
  },
  {
   "cell_type": "code",
   "execution_count": 23,
   "metadata": {},
   "outputs": [],
   "source": [
    "result_csv['Target'] = get_target_values(df_test, y_prediction)"
   ]
  },
  {
   "cell_type": "code",
   "execution_count": 28,
   "metadata": {},
   "outputs": [
    {
     "name": "stdout",
     "output_type": "stream",
     "text": [
      "     test_index  Target\n",
      "0          6557       0\n",
      "1          6558       0\n",
      "2          6559       1\n",
      "3          6560       1\n",
      "4          6561       1\n",
      "..          ...     ...\n",
      "721        7278       0\n",
      "722        7279       1\n",
      "723        7280       1\n",
      "724        7281       1\n",
      "725        7282       1\n",
      "\n",
      "[726 rows x 2 columns]\n"
     ]
    }
   ],
   "source": [
    "result_csv.to_csv('predictions.csv', index=False)"
   ]
  },
  {
   "cell_type": "code",
   "execution_count": 43,
   "metadata": {},
   "outputs": [],
   "source": [
    "result_json = pd.DataFrame(result_csv['Target'])\n",
    "result_json.set_index(result_csv['test_index'], drop=True, append=False, inplace=False, verify_integrity=False)\n",
    "result_json.to_json('predictions.json')"
   ]
  }
 ],
 "metadata": {
  "interpreter": {
   "hash": "916dbcbb3f70747c44a77c7bcd40155683ae19c65e1c03b4aa3499c5328201f1"
  },
  "kernelspec": {
   "display_name": "Python 3.8.10 64-bit",
   "language": "python",
   "name": "python3"
  },
  "language_info": {
   "codemirror_mode": {
    "name": "ipython",
    "version": 3
   },
   "file_extension": ".py",
   "mimetype": "text/x-python",
   "name": "python",
   "nbconvert_exporter": "python",
   "pygments_lexer": "ipython3",
   "version": "3.8.10"
  },
  "orig_nbformat": 4
 },
 "nbformat": 4,
 "nbformat_minor": 2
}
